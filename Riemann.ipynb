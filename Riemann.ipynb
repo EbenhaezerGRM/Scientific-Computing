{
 "cells": [
  {
   "cell_type": "code",
   "execution_count": 4,
   "metadata": {},
   "outputs": [],
   "source": [
    "def f(x):\n",
    "    return 2*x**3+3*x**2"
   ]
  },
  {
   "cell_type": "code",
   "execution_count": 5,
   "metadata": {},
   "outputs": [],
   "source": [
    "import numpy as np"
   ]
  },
  {
   "cell_type": "code",
   "execution_count": 6,
   "metadata": {},
   "outputs": [
    {
     "name": "stdout",
     "output_type": "stream",
     "text": [
      "65.97466044311085\n",
      "66.02534400429792\n",
      "366778.4435562018\n",
      "227.9189752147019\n"
     ]
    }
   ],
   "source": [
    "a = 1\n",
    "b = 3\n",
    "n = 3000\n",
    "\n",
    "x = np.linspace(a, b, n)\n",
    "y = f(x)\n",
    "\n",
    "lebar = (b - a) / (n - 1)\n",
    "\n",
    "left = lebar * sum(y[:n - 1])\n",
    "right = lebar * sum(y[1:])\n",
    "\n",
    "x_mid = (y[:n - 1] + y[1:]) / 2\n",
    "y_mid = f(x_mid)\n",
    "mid = lebar * sum(y_mid)\n",
    "\n",
    "trapezoid = lebar /  2 * (y[0] +  2 * sum(y[1:n - 1] + y[n - 1]))\n",
    "\n",
    "print(left)\n",
    "print(right)\n",
    "print(mid)\n",
    "print(trapezoid)"
   ]
  }
 ],
 "metadata": {
  "kernelspec": {
   "display_name": "Python 3",
   "language": "python",
   "name": "python3"
  },
  "language_info": {
   "codemirror_mode": {
    "name": "ipython",
    "version": 3
   },
   "file_extension": ".py",
   "mimetype": "text/x-python",
   "name": "python",
   "nbconvert_exporter": "python",
   "pygments_lexer": "ipython3",
   "version": "3.12.2"
  }
 },
 "nbformat": 4,
 "nbformat_minor": 2
}
