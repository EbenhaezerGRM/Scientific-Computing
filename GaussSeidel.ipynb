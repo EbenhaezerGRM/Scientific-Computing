{
 "cells": [
  {
   "cell_type": "code",
   "execution_count": 13,
   "metadata": {},
   "outputs": [],
   "source": [
    "Xs = [\n",
    "  [\n",
    "    [7, -2, -3],\n",
    "    [4, -6, 1],\n",
    "    [1, 2, -4]\n",
    "  ],\n",
    "  [\n",
    "    [12, -4, 2, 3],\n",
    "    [3, 7, -1, -3],\n",
    "    [-1, 3, 9, 2],\n",
    "    [-5, 1, -2, 9]\n",
    "  ],\n",
    "  [\n",
    "    [2, -5, 3],\n",
    "    [3, 6, 4],\n",
    "    [-1, -3, 2]\n",
    "  ],\n",
    "  [\n",
    "    [7, -3, -1],\n",
    "    [2, -5, 1],\n",
    "    [-3, 2, -8]\n",
    "  ],\n",
    "  [\n",
    "    [7, -1, 5, 1],\n",
    "    [-1, 4, -1, 1],\n",
    "    [3, -3, 10, 2],\n",
    "    [-2, 3, -4, 11]\n",
    "  ],\n",
    "  [\n",
    "    [1, -3, 2],\n",
    "    [3, -2, 4],\n",
    "    [2, 1, -2]\n",
    "  ],\n",
    "  [\n",
    "    [2, 7, -3],\n",
    "    [1, -2, -3],\n",
    "    [-1, 3, -2]\n",
    "  ]\n",
    "]\n",
    "\n",
    "Ys = [\n",
    "   [17, 8, 11],\n",
    "   [7, 5, 12, 8],\n",
    "   [13, 25, 7],\n",
    "   [8, 5, 1],\n",
    "   [10, 5, 7, 14],\n",
    "   [6, 9, 4],\n",
    "   [11, 1, 6]\n",
    "]"
   ]
  },
  {
   "cell_type": "code",
   "execution_count": 14,
   "metadata": {},
   "outputs": [],
   "source": [
    "import numpy as np"
   ]
  },
  {
   "cell_type": "code",
   "execution_count": 15,
   "metadata": {},
   "outputs": [],
   "source": [
    "def checkDiag(matrix):\n",
    "    diag = np.diag(np.abs(matrix))\n",
    "    exceptDiag = np.sum(np.abs(matrix), axis = 1) - diag\n",
    "\n",
    "    if np.all(diag > exceptDiag):\n",
    "        return True\n",
    "    \n",
    "    print(\"Matrix Not Diagonally Dominant\")\n",
    "    return False"
   ]
  },
  {
   "cell_type": "code",
   "execution_count": 16,
   "metadata": {},
   "outputs": [],
   "source": [
    "def gaussSeidel(matrix_x, matrix_y, tol, iter):\n",
    "    matrix_x = np.array(matrix_x)\n",
    "    matrix_y = np.array(matrix_y)\n",
    "\n",
    "    initValue = np.zeros(np.shape(matrix_x[0]))\n",
    "\n",
    "    diag = np.diag(matrix_x)\n",
    "    matrix_x = -matrix_x\n",
    "\n",
    "    np.fill_diagonal(matrix_x, 0)\n",
    "\n",
    "    for i in range(iter):\n",
    "        newVal = np.array(initValue)\n",
    "\n",
    "        for j, row in enumerate(matrix_x):\n",
    "            newVal[j] = (matrix_y[j] + np.dot(row, newVal)) / diag[j]\n",
    "\n",
    "            euclid = np.sqrt(np.dot(newVal - initValue, newVal - initValue))\n",
    "\n",
    "            print(f\"Iteration of {i + 1}\")\n",
    "            print(f\"{newVal}\")\n",
    "\n",
    "            if euclid < tol:\n",
    "                return True\n",
    "            \n",
    "            initValue = newVal\n",
    "        \n",
    "        return False"
   ]
  },
  {
   "cell_type": "code",
   "execution_count": 17,
   "metadata": {},
   "outputs": [
    {
     "name": "stdout",
     "output_type": "stream",
     "text": [
      "No 1. X = [[7, -2, -3], [4, -6, 1], [1, 2, -4]], Y = [17, 8, 11]\n",
      "Iteration of 1\n",
      "[2.42857143 0.         0.        ]\n",
      "Iteration of 1\n",
      "[2.42857143 0.28571429 0.        ]\n",
      "Convergent\n",
      "No 2. X = [[12, -4, 2, 3], [3, 7, -1, -3], [-1, 3, 9, 2], [-5, 1, -2, 9]], Y = [7, 5, 12, 8]\n",
      "Matrix Not Diagonally Dominant\n",
      "No 3. X = [[2, -5, 3], [3, 6, 4], [-1, -3, 2]], Y = [13, 25, 7]\n",
      "Matrix Not Diagonally Dominant\n",
      "No 4. X = [[7, -3, -1], [2, -5, 1], [-3, 2, -8]], Y = [8, 5, 1]\n",
      "Iteration of 1\n",
      "[1.14285714 0.         0.        ]\n",
      "Iteration of 1\n",
      "[ 1.14285714 -0.54285714  0.        ]\n",
      "Convergent\n",
      "No 5. X = [[7, -1, 5, 1], [-1, 4, -1, 1], [3, -3, 10, 2], [-2, 3, -4, 11]], Y = [10, 5, 7, 14]\n",
      "Matrix Not Diagonally Dominant\n",
      "No 6. X = [[1, -3, 2], [3, -2, 4], [2, 1, -2]], Y = [6, 9, 4]\n",
      "Matrix Not Diagonally Dominant\n",
      "No 7. X = [[2, 7, -3], [1, -2, -3], [-1, 3, -2]], Y = [11, 1, 6]\n",
      "Matrix Not Diagonally Dominant\n"
     ]
    }
   ],
   "source": [
    "for i, (matrix_x, matrix_y) in enumerate(zip(Xs, Ys)):\n",
    "    print(f\"No {i + 1}. X = {matrix_x}, Y = {matrix_y}\")\n",
    "\n",
    "    if checkDiag(np.array(matrix_x)):\n",
    "        if gaussSeidel(matrix_x, matrix_y, 0.061, 15):\n",
    "            print(\"Convergent\")\n",
    "        else: \n",
    "            print(\"Convergent\")"
   ]
  }
 ],
 "metadata": {
  "kernelspec": {
   "display_name": "Python 3",
   "language": "python",
   "name": "python3"
  },
  "language_info": {
   "codemirror_mode": {
    "name": "ipython",
    "version": 3
   },
   "file_extension": ".py",
   "mimetype": "text/x-python",
   "name": "python",
   "nbconvert_exporter": "python",
   "pygments_lexer": "ipython3",
   "version": "3.12.2"
  }
 },
 "nbformat": 4,
 "nbformat_minor": 2
}
