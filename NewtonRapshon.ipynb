{
 "cells": [
  {
   "cell_type": "code",
   "execution_count": 4,
   "metadata": {},
   "outputs": [],
   "source": [
    "def f(x):\n",
    "    return 2*x**3+6\n",
    "\n",
    "def g(x):\n",
    "    return 6*x**2"
   ]
  },
  {
   "cell_type": "code",
   "execution_count": 5,
   "metadata": {},
   "outputs": [],
   "source": [
    "import numpy as np"
   ]
  },
  {
   "cell_type": "code",
   "execution_count": 6,
   "metadata": {},
   "outputs": [
    {
     "name": "stdout",
     "output_type": "stream",
     "text": [
      "Iteration of 1. new root = 1.0833333333333335\n",
      "Iteration of 2. new root = -0.12984878369493758\n",
      "Iteration of 3. new root = -59.39606112899\n",
      "Iteration of 4. new root = -39.59765754137632\n",
      "Iteration of 5. new root = -26.399076126398423\n",
      "Iteration of 6. new root = -17.600818987264496\n",
      "Iteration of 7. new root = -11.737107330201214\n",
      "Iteration of 8. new root = -7.831997237710539\n",
      "Iteration of 9. new root = -5.237634019580414\n",
      "Iteration of 10. new root = -3.5282087131420763\n",
      "Iteration of 11. new root = -2.4324716755741127\n",
      "Iteration of 12. new root = -1.790654676076151\n",
      "Iteration of 13. new root = -1.505641735442458\n",
      "Iteration of 14. new root = -1.444881118362546\n",
      "Newton-Raphson, root value: -1.444881118362546\n"
     ]
    },
    {
     "data": {
      "text/plain": [
       "True"
      ]
     },
     "execution_count": 6,
     "metadata": {},
     "output_type": "execute_result"
    }
   ],
   "source": [
    "def newton(x0, iter, tol):\n",
    "    flag = 0\n",
    "    index = 0\n",
    "\n",
    "    while flag != iter:\n",
    "        x1 = x0 - f(x0) / g(x0)\n",
    "        print(f\"Iteration of {index + 1}. new root = {x1}\")\n",
    "\n",
    "        index += 1\n",
    "\n",
    "        if np.abs(f(x1)) < tol:\n",
    "            print(f\"Newton-Raphson, root value: {x1}\")\n",
    "            return True\n",
    "\n",
    "        x0 = x1\n",
    "    \n",
    "    print(\"Root Not Found\")\n",
    "    return False\n",
    "\n",
    "newton(2, 20, 0.061)"
   ]
  }
 ],
 "metadata": {
  "kernelspec": {
   "display_name": "Python 3",
   "language": "python",
   "name": "python3"
  },
  "language_info": {
   "codemirror_mode": {
    "name": "ipython",
    "version": 3
   },
   "file_extension": ".py",
   "mimetype": "text/x-python",
   "name": "python",
   "nbconvert_exporter": "python",
   "pygments_lexer": "ipython3",
   "version": "3.12.2"
  }
 },
 "nbformat": 4,
 "nbformat_minor": 2
}
